{
 "cells": [
  {
   "cell_type": "markdown",
   "metadata": {
    "colab_type": "text",
    "id": "upamjsr0RlYj"
   },
   "source": [
    "## PREDICTING DEFAULTERS ON CREDIT CARDS USING CLASSIFICATION ALGORITHMS\n",
    "\n",
    "### Danesh Durairetnam WQD180067\n",
    "\n",
    "**Abstract:** This project aims to predict customers default on credit cards payments and compare the accuracy of the prediction among several machine learning algorithms.\n",
    "\n",
    "\n",
    "In this notebook, we'll explore the feasibility of implementing a Neural Network and Boosting algorithm to predict credit card defaulters. We will also attempt to reduce the dimensionality of the dataset using PCA and compare the performance and accuracy of the modified dataset against the original dataset."
   ]
  },
  {
   "cell_type": "markdown",
   "metadata": {
    "colab_type": "text",
    "id": "s0Famy-BSLpG"
   },
   "source": [
    "### Import Libraries"
   ]
  },
  {
   "cell_type": "code",
   "execution_count": null,
   "metadata": {
    "colab": {},
    "colab_type": "code",
    "id": "MH8MuPbQSDxi"
   },
   "outputs": [],
   "source": [
    "import pandas as pd\n",
    "import matplotlib.pyplot as plt\n",
    "import seaborn as sns\n",
    "import numpy as np\n",
    "import time"
   ]
  },
  {
   "cell_type": "markdown",
   "metadata": {
    "colab_type": "text",
    "id": "UMbq3aPJSSKu"
   },
   "source": [
    "### Load Dataset\n",
    "\n",
    "The dataset is loaded into a pandas dataframe. The dimensions and datatypes of the columns are identified. The top rows are also checked to verify if it matches the datatypes."
   ]
  },
  {
   "cell_type": "code",
   "execution_count": null,
   "metadata": {
    "colab": {},
    "colab_type": "code",
    "id": "jOr67ZjBRlYo"
   },
   "outputs": [],
   "source": [
    "dataset = pd.read_excel('https://archive.ics.uci.edu/ml/machine-learning-databases/00350/default%20of%20credit%20card%20clients.xls',skiprows=1)"
   ]
  },
  {
   "cell_type": "code",
   "execution_count": null,
   "metadata": {
    "colab": {},
    "colab_type": "code",
    "id": "qGEvVNXn4KDW",
    "outputId": "a41e4094-b034-46a3-db80-4dbd7f8941ad"
   },
   "outputs": [
    {
     "data": {
      "text/plain": [
       "(30000, 25)"
      ]
     },
     "execution_count": 3,
     "metadata": {
      "tags": []
     },
     "output_type": "execute_result"
    }
   ],
   "source": [
    "dataset.shape"
   ]
  },
  {
   "cell_type": "code",
   "execution_count": null,
   "metadata": {
    "colab": {
     "base_uri": "https://localhost:8080/",
     "height": 430
    },
    "colab_type": "code",
    "executionInfo": {
     "elapsed": 4344,
     "status": "ok",
     "timestamp": 1575009301178,
     "user": {
      "displayName": "Danesh Durairetnam",
      "photoUrl": "",
      "userId": "11492585352714231967"
     },
     "user_tz": -480
    },
    "id": "qP3U4PFsRlYu",
    "outputId": "9e246588-bf86-433e-d699-5cc80acc1d05"
   },
   "outputs": [
    {
     "data": {
      "text/html": [
       "<div>\n",
       "<style scoped>\n",
       "    .dataframe tbody tr th:only-of-type {\n",
       "        vertical-align: middle;\n",
       "    }\n",
       "\n",
       "    .dataframe tbody tr th {\n",
       "        vertical-align: top;\n",
       "    }\n",
       "\n",
       "    .dataframe thead th {\n",
       "        text-align: right;\n",
       "    }\n",
       "</style>\n",
       "<table border=\"1\" class=\"dataframe\">\n",
       "  <thead>\n",
       "    <tr style=\"text-align: right;\">\n",
       "      <th></th>\n",
       "      <th>ID</th>\n",
       "      <th>LIMIT_BAL</th>\n",
       "      <th>SEX</th>\n",
       "      <th>EDUCATION</th>\n",
       "      <th>MARRIAGE</th>\n",
       "      <th>AGE</th>\n",
       "      <th>PAY_0</th>\n",
       "      <th>PAY_2</th>\n",
       "      <th>PAY_3</th>\n",
       "      <th>PAY_4</th>\n",
       "      <th>...</th>\n",
       "      <th>BILL_AMT4</th>\n",
       "      <th>BILL_AMT5</th>\n",
       "      <th>BILL_AMT6</th>\n",
       "      <th>PAY_AMT1</th>\n",
       "      <th>PAY_AMT2</th>\n",
       "      <th>PAY_AMT3</th>\n",
       "      <th>PAY_AMT4</th>\n",
       "      <th>PAY_AMT5</th>\n",
       "      <th>PAY_AMT6</th>\n",
       "      <th>default payment next month</th>\n",
       "    </tr>\n",
       "  </thead>\n",
       "  <tbody>\n",
       "    <tr>\n",
       "      <td>0</td>\n",
       "      <td>1</td>\n",
       "      <td>20000</td>\n",
       "      <td>2</td>\n",
       "      <td>2</td>\n",
       "      <td>1</td>\n",
       "      <td>24</td>\n",
       "      <td>2</td>\n",
       "      <td>2</td>\n",
       "      <td>-1</td>\n",
       "      <td>-1</td>\n",
       "      <td>...</td>\n",
       "      <td>0</td>\n",
       "      <td>0</td>\n",
       "      <td>0</td>\n",
       "      <td>0</td>\n",
       "      <td>689</td>\n",
       "      <td>0</td>\n",
       "      <td>0</td>\n",
       "      <td>0</td>\n",
       "      <td>0</td>\n",
       "      <td>1</td>\n",
       "    </tr>\n",
       "    <tr>\n",
       "      <td>1</td>\n",
       "      <td>2</td>\n",
       "      <td>120000</td>\n",
       "      <td>2</td>\n",
       "      <td>2</td>\n",
       "      <td>2</td>\n",
       "      <td>26</td>\n",
       "      <td>-1</td>\n",
       "      <td>2</td>\n",
       "      <td>0</td>\n",
       "      <td>0</td>\n",
       "      <td>...</td>\n",
       "      <td>3272</td>\n",
       "      <td>3455</td>\n",
       "      <td>3261</td>\n",
       "      <td>0</td>\n",
       "      <td>1000</td>\n",
       "      <td>1000</td>\n",
       "      <td>1000</td>\n",
       "      <td>0</td>\n",
       "      <td>2000</td>\n",
       "      <td>1</td>\n",
       "    </tr>\n",
       "    <tr>\n",
       "      <td>2</td>\n",
       "      <td>3</td>\n",
       "      <td>90000</td>\n",
       "      <td>2</td>\n",
       "      <td>2</td>\n",
       "      <td>2</td>\n",
       "      <td>34</td>\n",
       "      <td>0</td>\n",
       "      <td>0</td>\n",
       "      <td>0</td>\n",
       "      <td>0</td>\n",
       "      <td>...</td>\n",
       "      <td>14331</td>\n",
       "      <td>14948</td>\n",
       "      <td>15549</td>\n",
       "      <td>1518</td>\n",
       "      <td>1500</td>\n",
       "      <td>1000</td>\n",
       "      <td>1000</td>\n",
       "      <td>1000</td>\n",
       "      <td>5000</td>\n",
       "      <td>0</td>\n",
       "    </tr>\n",
       "    <tr>\n",
       "      <td>3</td>\n",
       "      <td>4</td>\n",
       "      <td>50000</td>\n",
       "      <td>2</td>\n",
       "      <td>2</td>\n",
       "      <td>1</td>\n",
       "      <td>37</td>\n",
       "      <td>0</td>\n",
       "      <td>0</td>\n",
       "      <td>0</td>\n",
       "      <td>0</td>\n",
       "      <td>...</td>\n",
       "      <td>28314</td>\n",
       "      <td>28959</td>\n",
       "      <td>29547</td>\n",
       "      <td>2000</td>\n",
       "      <td>2019</td>\n",
       "      <td>1200</td>\n",
       "      <td>1100</td>\n",
       "      <td>1069</td>\n",
       "      <td>1000</td>\n",
       "      <td>0</td>\n",
       "    </tr>\n",
       "    <tr>\n",
       "      <td>4</td>\n",
       "      <td>5</td>\n",
       "      <td>50000</td>\n",
       "      <td>1</td>\n",
       "      <td>2</td>\n",
       "      <td>1</td>\n",
       "      <td>57</td>\n",
       "      <td>-1</td>\n",
       "      <td>0</td>\n",
       "      <td>-1</td>\n",
       "      <td>0</td>\n",
       "      <td>...</td>\n",
       "      <td>20940</td>\n",
       "      <td>19146</td>\n",
       "      <td>19131</td>\n",
       "      <td>2000</td>\n",
       "      <td>36681</td>\n",
       "      <td>10000</td>\n",
       "      <td>9000</td>\n",
       "      <td>689</td>\n",
       "      <td>679</td>\n",
       "      <td>0</td>\n",
       "    </tr>\n",
       "    <tr>\n",
       "      <td>5</td>\n",
       "      <td>6</td>\n",
       "      <td>50000</td>\n",
       "      <td>1</td>\n",
       "      <td>1</td>\n",
       "      <td>2</td>\n",
       "      <td>37</td>\n",
       "      <td>0</td>\n",
       "      <td>0</td>\n",
       "      <td>0</td>\n",
       "      <td>0</td>\n",
       "      <td>...</td>\n",
       "      <td>19394</td>\n",
       "      <td>19619</td>\n",
       "      <td>20024</td>\n",
       "      <td>2500</td>\n",
       "      <td>1815</td>\n",
       "      <td>657</td>\n",
       "      <td>1000</td>\n",
       "      <td>1000</td>\n",
       "      <td>800</td>\n",
       "      <td>0</td>\n",
       "    </tr>\n",
       "    <tr>\n",
       "      <td>6</td>\n",
       "      <td>7</td>\n",
       "      <td>500000</td>\n",
       "      <td>1</td>\n",
       "      <td>1</td>\n",
       "      <td>2</td>\n",
       "      <td>29</td>\n",
       "      <td>0</td>\n",
       "      <td>0</td>\n",
       "      <td>0</td>\n",
       "      <td>0</td>\n",
       "      <td>...</td>\n",
       "      <td>542653</td>\n",
       "      <td>483003</td>\n",
       "      <td>473944</td>\n",
       "      <td>55000</td>\n",
       "      <td>40000</td>\n",
       "      <td>38000</td>\n",
       "      <td>20239</td>\n",
       "      <td>13750</td>\n",
       "      <td>13770</td>\n",
       "      <td>0</td>\n",
       "    </tr>\n",
       "    <tr>\n",
       "      <td>7</td>\n",
       "      <td>8</td>\n",
       "      <td>100000</td>\n",
       "      <td>2</td>\n",
       "      <td>2</td>\n",
       "      <td>2</td>\n",
       "      <td>23</td>\n",
       "      <td>0</td>\n",
       "      <td>-1</td>\n",
       "      <td>-1</td>\n",
       "      <td>0</td>\n",
       "      <td>...</td>\n",
       "      <td>221</td>\n",
       "      <td>-159</td>\n",
       "      <td>567</td>\n",
       "      <td>380</td>\n",
       "      <td>601</td>\n",
       "      <td>0</td>\n",
       "      <td>581</td>\n",
       "      <td>1687</td>\n",
       "      <td>1542</td>\n",
       "      <td>0</td>\n",
       "    </tr>\n",
       "    <tr>\n",
       "      <td>8</td>\n",
       "      <td>9</td>\n",
       "      <td>140000</td>\n",
       "      <td>2</td>\n",
       "      <td>3</td>\n",
       "      <td>1</td>\n",
       "      <td>28</td>\n",
       "      <td>0</td>\n",
       "      <td>0</td>\n",
       "      <td>2</td>\n",
       "      <td>0</td>\n",
       "      <td>...</td>\n",
       "      <td>12211</td>\n",
       "      <td>11793</td>\n",
       "      <td>3719</td>\n",
       "      <td>3329</td>\n",
       "      <td>0</td>\n",
       "      <td>432</td>\n",
       "      <td>1000</td>\n",
       "      <td>1000</td>\n",
       "      <td>1000</td>\n",
       "      <td>0</td>\n",
       "    </tr>\n",
       "    <tr>\n",
       "      <td>9</td>\n",
       "      <td>10</td>\n",
       "      <td>20000</td>\n",
       "      <td>1</td>\n",
       "      <td>3</td>\n",
       "      <td>2</td>\n",
       "      <td>35</td>\n",
       "      <td>-2</td>\n",
       "      <td>-2</td>\n",
       "      <td>-2</td>\n",
       "      <td>-2</td>\n",
       "      <td>...</td>\n",
       "      <td>0</td>\n",
       "      <td>13007</td>\n",
       "      <td>13912</td>\n",
       "      <td>0</td>\n",
       "      <td>0</td>\n",
       "      <td>0</td>\n",
       "      <td>13007</td>\n",
       "      <td>1122</td>\n",
       "      <td>0</td>\n",
       "      <td>0</td>\n",
       "    </tr>\n",
       "  </tbody>\n",
       "</table>\n",
       "<p>10 rows × 25 columns</p>\n",
       "</div>"
      ],
      "text/plain": [
       "   ID  LIMIT_BAL  SEX  EDUCATION  MARRIAGE  AGE  PAY_0  PAY_2  PAY_3  PAY_4  \\\n",
       "0   1      20000    2          2         1   24      2      2     -1     -1   \n",
       "1   2     120000    2          2         2   26     -1      2      0      0   \n",
       "2   3      90000    2          2         2   34      0      0      0      0   \n",
       "3   4      50000    2          2         1   37      0      0      0      0   \n",
       "4   5      50000    1          2         1   57     -1      0     -1      0   \n",
       "5   6      50000    1          1         2   37      0      0      0      0   \n",
       "6   7     500000    1          1         2   29      0      0      0      0   \n",
       "7   8     100000    2          2         2   23      0     -1     -1      0   \n",
       "8   9     140000    2          3         1   28      0      0      2      0   \n",
       "9  10      20000    1          3         2   35     -2     -2     -2     -2   \n",
       "\n",
       "   ...  BILL_AMT4  BILL_AMT5  BILL_AMT6  PAY_AMT1  PAY_AMT2  PAY_AMT3  \\\n",
       "0  ...          0          0          0         0       689         0   \n",
       "1  ...       3272       3455       3261         0      1000      1000   \n",
       "2  ...      14331      14948      15549      1518      1500      1000   \n",
       "3  ...      28314      28959      29547      2000      2019      1200   \n",
       "4  ...      20940      19146      19131      2000     36681     10000   \n",
       "5  ...      19394      19619      20024      2500      1815       657   \n",
       "6  ...     542653     483003     473944     55000     40000     38000   \n",
       "7  ...        221       -159        567       380       601         0   \n",
       "8  ...      12211      11793       3719      3329         0       432   \n",
       "9  ...          0      13007      13912         0         0         0   \n",
       "\n",
       "   PAY_AMT4  PAY_AMT5  PAY_AMT6  default payment next month  \n",
       "0         0         0         0                           1  \n",
       "1      1000         0      2000                           1  \n",
       "2      1000      1000      5000                           0  \n",
       "3      1100      1069      1000                           0  \n",
       "4      9000       689       679                           0  \n",
       "5      1000      1000       800                           0  \n",
       "6     20239     13750     13770                           0  \n",
       "7       581      1687      1542                           0  \n",
       "8      1000      1000      1000                           0  \n",
       "9     13007      1122         0                           0  \n",
       "\n",
       "[10 rows x 25 columns]"
      ]
     },
     "execution_count": 4,
     "metadata": {
      "tags": []
     },
     "output_type": "execute_result"
    }
   ],
   "source": [
    "dataset.head(10)"
   ]
  },
  {
   "cell_type": "code",
   "execution_count": null,
   "metadata": {
    "colab": {},
    "colab_type": "code",
    "id": "5x-draSi4KDe",
    "outputId": "fc2569b2-6a48-4623-82ab-3bb184b1f559"
   },
   "outputs": [
    {
     "data": {
      "text/plain": [
       "ID                            int64\n",
       "LIMIT_BAL                     int64\n",
       "SEX                           int64\n",
       "EDUCATION                     int64\n",
       "MARRIAGE                      int64\n",
       "AGE                           int64\n",
       "PAY_0                         int64\n",
       "PAY_2                         int64\n",
       "PAY_3                         int64\n",
       "PAY_4                         int64\n",
       "PAY_5                         int64\n",
       "PAY_6                         int64\n",
       "BILL_AMT1                     int64\n",
       "BILL_AMT2                     int64\n",
       "BILL_AMT3                     int64\n",
       "BILL_AMT4                     int64\n",
       "BILL_AMT5                     int64\n",
       "BILL_AMT6                     int64\n",
       "PAY_AMT1                      int64\n",
       "PAY_AMT2                      int64\n",
       "PAY_AMT3                      int64\n",
       "PAY_AMT4                      int64\n",
       "PAY_AMT5                      int64\n",
       "PAY_AMT6                      int64\n",
       "default payment next month    int64\n",
       "dtype: object"
      ]
     },
     "execution_count": 5,
     "metadata": {
      "tags": []
     },
     "output_type": "execute_result"
    }
   ],
   "source": [
    "dataset.dtypes"
   ]
  },
  {
   "cell_type": "markdown",
   "metadata": {
    "colab_type": "text",
    "id": "lj9ABtNi4KDi"
   },
   "source": [
    "### Fix Datatypes\n",
    "\n",
    "Several categorical values have been misidentified ad integers, the datatypes are corrected."
   ]
  },
  {
   "cell_type": "code",
   "execution_count": null,
   "metadata": {
    "colab": {},
    "colab_type": "code",
    "id": "3De9nW2H4KDj"
   },
   "outputs": [],
   "source": [
    "# Rename defaults column\n",
    "dataset.rename(columns={'default payment next month':'DEFAULT'}, inplace=True)\n",
    "\n",
    "# Change categorical columns to category\n",
    "dataset['SEX'] = dataset.SEX.astype('category')\n",
    "dataset['EDUCATION'] = dataset.EDUCATION.astype('category')\n",
    "dataset['MARRIAGE'] = dataset.MARRIAGE.astype('category')\n",
    "dataset['DEFAULT'] = dataset.DEFAULT.astype('category')\n",
    "\n",
    "dataset['PAY_0'] = dataset.PAY_0.astype('category')\n",
    "dataset['PAY_2'] = dataset.PAY_2.astype('category')\n",
    "dataset['PAY_3'] = dataset.PAY_3.astype('category')\n",
    "dataset['PAY_4'] = dataset.PAY_4.astype('category')\n",
    "dataset['PAY_5'] = dataset.PAY_5.astype('category')\n",
    "dataset['PAY_6'] = dataset.PAY_6.astype('category')"
   ]
  },
  {
   "cell_type": "code",
   "execution_count": null,
   "metadata": {
    "colab": {},
    "colab_type": "code",
    "id": "ICmoSPzW4KDm",
    "outputId": "b48a3a37-5cf4-4343-aa34-c6f88566dd31"
   },
   "outputs": [
    {
     "data": {
      "text/plain": [
       "ID              int64\n",
       "LIMIT_BAL       int64\n",
       "SEX          category\n",
       "EDUCATION    category\n",
       "MARRIAGE     category\n",
       "AGE             int64\n",
       "PAY_0        category\n",
       "PAY_2        category\n",
       "PAY_3        category\n",
       "PAY_4        category\n",
       "PAY_5        category\n",
       "PAY_6        category\n",
       "BILL_AMT1       int64\n",
       "BILL_AMT2       int64\n",
       "BILL_AMT3       int64\n",
       "BILL_AMT4       int64\n",
       "BILL_AMT5       int64\n",
       "BILL_AMT6       int64\n",
       "PAY_AMT1        int64\n",
       "PAY_AMT2        int64\n",
       "PAY_AMT3        int64\n",
       "PAY_AMT4        int64\n",
       "PAY_AMT5        int64\n",
       "PAY_AMT6        int64\n",
       "DEFAULT      category\n",
       "dtype: object"
      ]
     },
     "execution_count": 7,
     "metadata": {
      "tags": []
     },
     "output_type": "execute_result"
    }
   ],
   "source": [
    "dataset.dtypes"
   ]
  },
  {
   "cell_type": "markdown",
   "metadata": {
    "colab_type": "text",
    "id": "sE9yTw-74KDq"
   },
   "source": [
    "### Analyze the Dataset"
   ]
  },
  {
   "cell_type": "code",
   "execution_count": null,
   "metadata": {
    "colab": {},
    "colab_type": "code",
    "id": "29D7YxzZ4KDr",
    "outputId": "afb6b438-e06f-4066-e071-19c5951a61e6"
   },
   "outputs": [
    {
     "name": "stdout",
     "output_type": "stream",
     "text": [
      "DEFAULT\n",
      "0    23364\n",
      "1     6636\n",
      "dtype: int64\n"
     ]
    }
   ],
   "source": [
    "# Distribution of defaulters/non-defaulters\n",
    "print(dataset.groupby('DEFAULT').size())"
   ]
  },
  {
   "cell_type": "markdown",
   "metadata": {
    "colab_type": "text",
    "id": "u5ettxc34KDv"
   },
   "source": [
    "The distribution is unbalanced, a weighted scoring will be necessary to obtain an accurate f1, precision and recall score."
   ]
  },
  {
   "cell_type": "markdown",
   "metadata": {
    "colab_type": "text",
    "id": "5hNptUiR4KDw"
   },
   "source": [
    "#### Using Normalized Bar Charts to identify Groups that are more likely to go into default"
   ]
  },
  {
   "cell_type": "code",
   "execution_count": null,
   "metadata": {
    "colab": {},
    "colab_type": "code",
    "id": "xZCFHLyV4KDx",
    "outputId": "6100d30d-a061-4a4d-b997-bddeaea1577f"
   },
   "outputs": [
    {
     "data": {
      "text/plain": [
       "<matplotlib.axes._subplots.AxesSubplot at 0x1c64b620d88>"
      ]
     },
     "execution_count": 9,
     "metadata": {
      "tags": []
     },
     "output_type": "execute_result"
    },
    {
     "data": {
      "image/png": "[encoded data removed]",
      "text/plain": [
       "<Figure size 432x288 with 1 Axes>"
      ]
     },
     "metadata": {
      "needs_background": "light",
      "tags": []
     },
     "output_type": "display_data"
    }
   ],
   "source": [
    "x, y, hue = \"DEFAULT\", \"PROPORTION\", \"SEX\"\n",
    "hue_order = [\"0\", \"1\"]\n",
    "\n",
    "(dataset[x]\n",
    " .groupby(dataset[hue])\n",
    " .value_counts(normalize=True)\n",
    " .rename(y)\n",
    " .reset_index()\n",
    " .pipe((sns.barplot, \"data\"), x=x, y=y, hue=hue))"
   ]
  },
  {
   "cell_type": "markdown",
   "metadata": {
    "colab_type": "text",
    "id": "pj83f8Lw4KD1"
   },
   "source": [
    "1=male, 2=female\n",
    "\n",
    "The barplot shows that men are slightly more likely to go into default."
   ]
  },
  {
   "cell_type": "code",
   "execution_count": null,
   "metadata": {
    "colab": {},
    "colab_type": "code",
    "id": "yksHopS94KD2",
    "outputId": "2b57013b-9dc3-45a9-96ac-4a697f13265e"
   },
   "outputs": [
    {
     "data": {
      "text/plain": [
       "<matplotlib.axes._subplots.AxesSubplot at 0x1c64801b4c8>"
      ]
     },
     "execution_count": 10,
     "metadata": {
      "tags": []
     },
     "output_type": "execute_result"
    },
    {
     "data": {
      "image/png": "[encoded data removed]",
      "text/plain": [
       "<Figure size 432x288 with 1 Axes>"
      ]
     },
     "metadata": {
      "needs_background": "light",
      "tags": []
     },
     "output_type": "display_data"
    }
   ],
   "source": [
    "x, y, hue = \"DEFAULT\", \"PROPORTION\", \"MARRIAGE\"\n",
    "hue_order = [\"0\", \"1\"]\n",
    "\n",
    "(dataset[x]\n",
    " .groupby(dataset[hue])\n",
    " .value_counts(normalize=True)\n",
    " .rename(y)\n",
    " .reset_index()\n",
    " .pipe((sns.barplot, \"data\"), x=x, y=y, hue=hue))"
   ]
  },
  {
   "cell_type": "markdown",
   "metadata": {
    "colab_type": "text",
    "id": "cbCe9D8N4KD5"
   },
   "source": [
    "1=married, 2=single, 3=others\n",
    "\n",
    "The barplot shows that single individuals are less likely to go into default."
   ]
  },
  {
   "cell_type": "code",
   "execution_count": null,
   "metadata": {
    "colab": {},
    "colab_type": "code",
    "id": "ZzGNTlsL4KD6",
    "outputId": "d4dd7485-695a-448c-a25f-add47a354a49"
   },
   "outputs": [
    {
     "data": {
      "text/plain": [
       "<matplotlib.axes._subplots.AxesSubplot at 0x1c6480b81c8>"
      ]
     },
     "execution_count": 11,
     "metadata": {
      "tags": []
     },
     "output_type": "execute_result"
    },
    {
     "data": {
      "image/png": "[encoded data removed]",
      "text/plain": [
       "<Figure size 432x288 with 1 Axes>"
      ]
     },
     "metadata": {
      "needs_background": "light",
      "tags": []
     },
     "output_type": "display_data"
    }
   ],
   "source": [
    "x, y, hue = \"DEFAULT\", \"PROPORTION\", \"EDUCATION\"\n",
    "hue_order = [\"0\", \"1\"]\n",
    "\n",
    "(dataset[x]\n",
    " .groupby(dataset[hue])\n",
    " .value_counts(normalize=True)\n",
    " .rename(y)\n",
    " .reset_index()\n",
    " .pipe((sns.barplot, \"data\"), x=x, y=y, hue=hue))"
   ]
  },
  {
   "cell_type": "markdown",
   "metadata": {
    "colab_type": "text",
    "id": "7N5ib_NR4KD9"
   },
   "source": [
    "1=graduate school, 2=university, 3=high school \n",
    "\n",
    "The graph shows that those with a graduate school education are less likely to go into default compared to university and high school graduates."
   ]
  },
  {
   "cell_type": "markdown",
   "metadata": {
    "colab_type": "text",
    "id": "qTGyavHN19N6"
   },
   "source": [
    "### Identify Correlation"
   ]
  },
  {
   "cell_type": "markdown",
   "metadata": {
    "colab_type": "text",
    "id": "9MNRh77B4KD-"
   },
   "source": [
    "#### Correlation Map\n",
    "A correlation map is used to identify highly correlated attributes. These attributes will be prime candidates for dimensionality reduction."
   ]
  },
  {
   "cell_type": "code",
   "execution_count": null,
   "metadata": {
    "colab": {
     "base_uri": "https://localhost:8080/",
     "height": 1000
    },
    "colab_type": "code",
    "executionInfo": {
     "elapsed": 8206,
     "status": "ok",
     "timestamp": 1575009305092,
     "user": {
      "displayName": "Danesh Durairetnam",
      "photoUrl": "",
      "userId": "11492585352714231967"
     },
     "user_tz": -480
    },
    "id": "lk7mawaLRlY6",
    "outputId": "1bfb6e2e-8b62-47c2-d17a-2c0dabda5f7a"
   },
   "outputs": [
    {
     "data": {
      "text/plain": [
       "(15.0, 0.0)"
      ]
     },
     "execution_count": 12,
     "metadata": {
      "tags": []
     },
     "output_type": "execute_result"
    },
    {
     "data": {
      "image/png": "[encoded data removed]",
      "text/plain": [
       "<Figure size 1152x1152 with 2 Axes>"
      ]
     },
     "metadata": {
      "needs_background": "light",
      "tags": []
     },
     "output_type": "display_data"
    }
   ],
   "source": [
    "corr = dataset.corr()\n",
    "\n",
    "# Set up the matplotlib figure\n",
    "f, ax = plt.subplots(figsize=(16, 16))\n",
    "\n",
    "# Generate a custom diverging colormap\n",
    "cmap = sns.diverging_palette(220, 10, as_cmap=True)\n",
    "\n",
    "# Draw the heatmap with the mask and correct aspect ratio\n",
    "ax = sns.heatmap(corr, \n",
    "            cmap=cmap, vmax=.3, center=0, \n",
    "            annot=True, square=True, \n",
    "            linewidths=.5, cbar_kws={\"shrink\": .5}, annot_kws={\"size\": 12},\n",
    "           )\n",
    "bottom, top = ax.get_ylim()\n",
    "ax.set_ylim(bottom + 0.5, top - 0.5)"
   ]
  },
  {
   "cell_type": "markdown",
   "metadata": {
    "colab_type": "text",
    "id": "hGfUQ5Z44KEC"
   },
   "source": [
    "By looking at the correlation graph, the atributes containing information on the payment type, bill amount and pay amount have a high correlation. The values provided by these attributes have a high likelyhood of being redundant. We can attempt a dimensionality reduction on these attributes to reduce the number of features that will be used to train our machine learning models."
   ]
  },
  {
   "cell_type": "markdown",
   "metadata": {
    "colab_type": "text",
    "id": "gVUS31s-19N-"
   },
   "source": [
    "### Reduce Dimensions of Highly Correlated Variables\n",
    "\n",
    "- The attributes containing payment type, bill amount and payment amount is selected for dimensionality reduction using PCA\n",
    "- These features are selected to reduce the dimensionality of the dataset. \n",
    "- This should help reduce the amout of time and resources needed to train the dataset.\n",
    "- In total 18 attributes out of 24 will be dimensionally reduced to  6. \n",
    "- This results in a 66% reduction in the selected attributes and a 50% reduction in the total dataset."
   ]
  },
  {
   "cell_type": "code",
   "execution_count": null,
   "metadata": {
    "colab": {},
    "colab_type": "code",
    "id": "Nq7WymU64KEE"
   },
   "outputs": [],
   "source": [
    "# Import libraries\n",
    "from sklearn.preprocessing import StandardScaler\n",
    "from sklearn.decomposition import PCA"
   ]
  },
  {
   "cell_type": "code",
   "execution_count": null,
   "metadata": {
    "colab": {},
    "colab_type": "code",
    "id": "5D7909ri19N_"
   },
   "outputs": [],
   "source": [
    "# Selecting attribute names that will be dimensionally reduced\n",
    "features = ['PAY_0', 'PAY_2', 'PAY_3', 'PAY_4', 'PAY_5', 'PAY_6', \n",
    "            'BILL_AMT1', 'BILL_AMT2', 'BILL_AMT3', 'BILL_AMT4', 'BILL_AMT5', 'BILL_AMT6', \n",
    "            'PAY_AMT1', 'PAY_AMT2', 'PAY_AMT3', 'PAY_AMT4', 'PAY_AMT5', 'PAY_AMT6']\n",
    "others   = ['ID', 'LIMIT_BAL', 'SEX', 'EDUCATION', 'MARRIAGE', 'AGE', 'DEFAULT']\n",
    "\n",
    "\n",
    "# Separating out the features\n",
    "x = dataset.loc[:, features].values\n",
    "# Separating out the target\n",
    "y = dataset.loc[:, others].values\n",
    "# Standardizing the features\n",
    "x = StandardScaler().fit_transform(x)\n",
    "\n",
    "# Executing the PCA\n",
    "pca = PCA(n_components=6)\n",
    "principalComponents = pca.fit_transform(x)\n",
    "principalDf = pd.DataFrame(data = principalComponents\n",
    "             , columns = ['PC1', 'PC2', 'PC3', 'PC4', 'PC5', 'PC6'])"
   ]
  },
  {
   "cell_type": "code",
   "execution_count": null,
   "metadata": {
    "colab": {
     "base_uri": "https://localhost:8080/",
     "height": 359
    },
    "colab_type": "code",
    "executionInfo": {
     "elapsed": 8169,
     "status": "ok",
     "timestamp": 1575009305103,
     "user": {
      "displayName": "Danesh Durairetnam",
      "photoUrl": "",
      "userId": "11492585352714231967"
     },
     "user_tz": -480
    },
    "id": "pXOPBX0y19OC",
    "outputId": "37c5f86f-2a26-46a1-b79c-d286343b8e51"
   },
   "outputs": [
    {
     "data": {
      "text/html": [
       "<div>\n",
       "<style scoped>\n",
       "    .dataframe tbody tr th:only-of-type {\n",
       "        vertical-align: middle;\n",
       "    }\n",
       "\n",
       "    .dataframe tbody tr th {\n",
       "        vertical-align: top;\n",
       "    }\n",
       "\n",
       "    .dataframe thead th {\n",
       "        text-align: right;\n",
       "    }\n",
       "</style>\n",
       "<table border=\"1\" class=\"dataframe\">\n",
       "  <thead>\n",
       "    <tr style=\"text-align: right;\">\n",
       "      <th></th>\n",
       "      <th>PC1</th>\n",
       "      <th>PC2</th>\n",
       "      <th>PC3</th>\n",
       "      <th>PC4</th>\n",
       "      <th>PC5</th>\n",
       "      <th>PC6</th>\n",
       "    </tr>\n",
       "  </thead>\n",
       "  <tbody>\n",
       "    <tr>\n",
       "      <td>0</td>\n",
       "      <td>-1.774457</td>\n",
       "      <td>-0.613834</td>\n",
       "      <td>-0.633142</td>\n",
       "      <td>-0.474713</td>\n",
       "      <td>-0.033614</td>\n",
       "      <td>-0.077654</td>\n",
       "    </tr>\n",
       "    <tr>\n",
       "      <td>1</td>\n",
       "      <td>-0.660334</td>\n",
       "      <td>-2.051521</td>\n",
       "      <td>0.426726</td>\n",
       "      <td>0.113607</td>\n",
       "      <td>0.148504</td>\n",
       "      <td>-0.100264</td>\n",
       "    </tr>\n",
       "    <tr>\n",
       "      <td>2</td>\n",
       "      <td>-0.766104</td>\n",
       "      <td>-0.934008</td>\n",
       "      <td>0.023527</td>\n",
       "      <td>-0.003720</td>\n",
       "      <td>-0.099811</td>\n",
       "      <td>-0.113338</td>\n",
       "    </tr>\n",
       "    <tr>\n",
       "      <td>3</td>\n",
       "      <td>-0.114276</td>\n",
       "      <td>-0.627801</td>\n",
       "      <td>-0.289996</td>\n",
       "      <td>0.133394</td>\n",
       "      <td>-0.044445</td>\n",
       "      <td>0.052357</td>\n",
       "    </tr>\n",
       "    <tr>\n",
       "      <td>4</td>\n",
       "      <td>-0.851808</td>\n",
       "      <td>0.029702</td>\n",
       "      <td>0.965619</td>\n",
       "      <td>0.731632</td>\n",
       "      <td>0.121899</td>\n",
       "      <td>0.497529</td>\n",
       "    </tr>\n",
       "    <tr>\n",
       "      <td>5</td>\n",
       "      <td>-0.110665</td>\n",
       "      <td>-0.628206</td>\n",
       "      <td>-0.346854</td>\n",
       "      <td>0.128097</td>\n",
       "      <td>-0.128334</td>\n",
       "      <td>0.038118</td>\n",
       "    </tr>\n",
       "    <tr>\n",
       "      <td>6</td>\n",
       "      <td>13.813784</td>\n",
       "      <td>7.323383</td>\n",
       "      <td>-1.501441</td>\n",
       "      <td>1.793182</td>\n",
       "      <td>0.257715</td>\n",
       "      <td>0.531249</td>\n",
       "    </tr>\n",
       "    <tr>\n",
       "      <td>7</td>\n",
       "      <td>-1.780951</td>\n",
       "      <td>-0.345811</td>\n",
       "      <td>-0.154896</td>\n",
       "      <td>0.035212</td>\n",
       "      <td>-0.065904</td>\n",
       "      <td>0.077431</td>\n",
       "    </tr>\n",
       "    <tr>\n",
       "      <td>8</td>\n",
       "      <td>-0.614489</td>\n",
       "      <td>-1.649140</td>\n",
       "      <td>0.197939</td>\n",
       "      <td>0.043683</td>\n",
       "      <td>-0.064436</td>\n",
       "      <td>-0.024647</td>\n",
       "    </tr>\n",
       "    <tr>\n",
       "      <td>9</td>\n",
       "      <td>-2.849881</td>\n",
       "      <td>1.848087</td>\n",
       "      <td>-0.389603</td>\n",
       "      <td>0.219857</td>\n",
       "      <td>0.677132</td>\n",
       "      <td>-0.187578</td>\n",
       "    </tr>\n",
       "  </tbody>\n",
       "</table>\n",
       "</div>"
      ],
      "text/plain": [
       "         PC1       PC2       PC3       PC4       PC5       PC6\n",
       "0  -1.774457 -0.613834 -0.633142 -0.474713 -0.033614 -0.077654\n",
       "1  -0.660334 -2.051521  0.426726  0.113607  0.148504 -0.100264\n",
       "2  -0.766104 -0.934008  0.023527 -0.003720 -0.099811 -0.113338\n",
       "3  -0.114276 -0.627801 -0.289996  0.133394 -0.044445  0.052357\n",
       "4  -0.851808  0.029702  0.965619  0.731632  0.121899  0.497529\n",
       "5  -0.110665 -0.628206 -0.346854  0.128097 -0.128334  0.038118\n",
       "6  13.813784  7.323383 -1.501441  1.793182  0.257715  0.531249\n",
       "7  -1.780951 -0.345811 -0.154896  0.035212 -0.065904  0.077431\n",
       "8  -0.614489 -1.649140  0.197939  0.043683 -0.064436 -0.024647\n",
       "9  -2.849881  1.848087 -0.389603  0.219857  0.677132 -0.187578"
      ]
     },
     "execution_count": 15,
     "metadata": {
      "tags": []
     },
     "output_type": "execute_result"
    }
   ],
   "source": [
    "principalDf.head(10)"
   ]
  },
  {
   "cell_type": "code",
   "execution_count": null,
   "metadata": {
    "colab": {},
    "colab_type": "code",
    "id": "_jTiYEul19OE"
   },
   "outputs": [],
   "source": [
    "# Combine the PCA results with the remaining dataset.\n",
    "finalDf = pd.concat([dataset[others], principalDf], axis = 1)\n",
    "finalDf.head(10)\n",
    "finalDf.to_csv('pca.csv', index=False)"
   ]
  },
  {
   "cell_type": "markdown",
   "metadata": {
    "colab_type": "text",
    "id": "1f5hurLp4KEa"
   },
   "source": [
    "### Check Correlation of Dimensionally Reduced Dataset"
   ]
  },
  {
   "cell_type": "code",
   "execution_count": null,
   "metadata": {
    "colab": {
     "base_uri": "https://localhost:8080/",
     "height": 1000
    },
    "colab_type": "code",
    "executionInfo": {
     "elapsed": 10226,
     "status": "ok",
     "timestamp": 1575009307227,
     "user": {
      "displayName": "Danesh Durairetnam",
      "photoUrl": "",
      "userId": "11492585352714231967"
     },
     "user_tz": -480
    },
    "id": "Xur0rkeT19OH",
    "outputId": "f84e7645-71a6-4e03-b695-8785b7dd48c3"
   },
   "outputs": [
    {
     "data": {
      "text/plain": [
       "(9.0, 0.0)"
      ]
     },
     "execution_count": 17,
     "metadata": {
      "tags": []
     },
     "output_type": "execute_result"
    },
    {
     "data": {
      "image/png": "[encoded data removed]",
      "text/plain": [
       "<Figure size 1152x1152 with 2 Axes>"
      ]
     },
     "metadata": {
      "needs_background": "light",
      "tags": []
     },
     "output_type": "display_data"
    }
   ],
   "source": [
    "corr = finalDf.corr()\n",
    "\n",
    "# Set up the matplotlib figure\n",
    "f, ax = plt.subplots(figsize=(16, 16))\n",
    "\n",
    "# Generate a custom diverging colormap\n",
    "cmap = sns.diverging_palette(220, 10, as_cmap=True)\n",
    "\n",
    "# Draw the heatmap with the mask and correct aspect ratio\n",
    "ax = sns.heatmap(corr, \n",
    "            cmap=cmap, vmax=.3, center=0, \n",
    "            annot=True, square=True, \n",
    "            linewidths=.5, cbar_kws={\"shrink\": .5}, annot_kws={\"size\": 12},\n",
    "           )\n",
    "\n",
    "bottom, top = ax.get_ylim()\n",
    "ax.set_ylim(bottom + 0.5, top - 0.5)"
   ]
  },
  {
   "cell_type": "markdown",
   "metadata": {
    "colab_type": "text",
    "id": "IQ3_v9814KEk"
   },
   "source": [
    "The dataset shows that there aren't any more clusters or groups of highly correlated attributes. The dimensionality reduction can be considerd successful."
   ]
  },
  {
   "cell_type": "markdown",
   "metadata": {
    "colab_type": "text",
    "id": "TvVX6oJ519OJ"
   },
   "source": [
    "### Machine Learning"
   ]
  },
  {
   "cell_type": "code",
   "execution_count": null,
   "metadata": {
    "colab": {},
    "colab_type": "code",
    "id": "VGB-TG7S19OK"
   },
   "outputs": [],
   "source": [
    "# Import Library\n",
    "from sklearn.model_selection import train_test_split\n",
    "from sklearn.neural_network import MLPClassifier\n",
    "from sklearn.ensemble import AdaBoostClassifier\n",
    "\n",
    "# Weighting and Cross Validation\n",
    "from numpy import average\n",
    "from multiscorer import MultiScorer\n",
    "from sklearn.metrics import roc_auc_score, accuracy_score, f1_score, precision_score, recall_score       \n",
    "from sklearn.model_selection import cross_val_score"
   ]
  },
  {
   "cell_type": "code",
   "execution_count": null,
   "metadata": {
    "colab": {},
    "colab_type": "code",
    "id": "HpRz3gDW4KEo"
   },
   "outputs": [],
   "source": [
    "# Define Scores to Measure\n",
    "scorer = MultiScorer({\n",
    "    'ROC AUC'   : (roc_auc_score , {}),\n",
    "    'Accuracy'  : (accuracy_score , {}),\n",
    "    'F1 Score'  : (f1_score       , {'average':'weighted'}),\n",
    "    'Precision' : (precision_score, {'average':'weighted'}),\n",
    "    'Recall'    : (recall_score   , {'average':'weighted'})\n",
    "})"
   ]
  },
  {
   "cell_type": "markdown",
   "metadata": {
    "colab_type": "text",
    "id": "r-n0Klaq4KEq"
   },
   "source": [
    "#### MLPClassifier (Multi Layer Perceptron Classifier)"
   ]
  },
  {
   "cell_type": "code",
   "execution_count": null,
   "metadata": {
    "colab": {},
    "colab_type": "code",
    "id": "3KF7sSuu4KEr"
   },
   "outputs": [],
   "source": [
    "# Tune Hyperparameters for Multi Layer Perceptron Classifier\n",
    "mlp_model = MLPClassifier(hidden_layer_sizes=(10, 8, 6),\n",
    "                          activation='relu', \n",
    "                          solver='adam', \n",
    "                          alpha=0.0001, \n",
    "                          max_iter=1000)"
   ]
  },
  {
   "cell_type": "markdown",
   "metadata": {
    "colab_type": "text",
    "id": "HKBv9qVT4KEu"
   },
   "source": [
    "#### AdaBoostClassifier (Boosting)"
   ]
  },
  {
   "cell_type": "code",
   "execution_count": null,
   "metadata": {
    "colab": {},
    "colab_type": "code",
    "id": "stOmUoIF4KEv"
   },
   "outputs": [],
   "source": [
    "# Tune Hyperparameters for Multi Layer Perceptron Classifier\n",
    "ada_model = AdaBoostClassifier(learning_rate=0.5, \n",
    "                              n_estimators=100,\n",
    "                              algorithm='SAMME.R')"
   ]
  },
  {
   "cell_type": "markdown",
   "metadata": {
    "colab_type": "text",
    "id": "AGeF50ar19OU"
   },
   "source": [
    "### Scoring MLPClassifier and AdaBoost with Unmodified Dataset (no PCA)"
   ]
  },
  {
   "cell_type": "code",
   "execution_count": null,
   "metadata": {
    "colab": {},
    "colab_type": "code",
    "id": "raQM00VK19OV"
   },
   "outputs": [],
   "source": [
    "# Prepare x and y data\n",
    "mlDf = dataset.drop(['ID'], axis=1)\n",
    "X_full = mlDf.drop(['DEFAULT'], axis=1)\n",
    "y = mlDf['DEFAULT']\n",
    "\n",
    "# Scale the dataset\n",
    "X_full = StandardScaler().fit_transform(X_full)"
   ]
  },
  {
   "cell_type": "code",
   "execution_count": null,
   "metadata": {
    "colab": {},
    "colab_type": "code",
    "id": "f0EySqhJ4KE2",
    "outputId": "97ee9a26-7a74-4402-b6f1-c6773d706275"
   },
   "outputs": [
    {
     "name": "stdout",
     "output_type": "stream",
     "text": [
      "ROC AUC : 0.653745\n",
      "Accuracy : 0.817701\n",
      "F1 Score : 0.796281\n",
      "Precision : 0.800563\n",
      "Recall : 0.817701\n",
      "Time 56.24300265312195 \n",
      "\n",
      "\n"
     ]
    }
   ],
   "source": [
    "start = time.time()\n",
    "_ = cross_val_score(mlp_model, X_full, y,scoring=scorer, cv=5)\n",
    "results = scorer.get_results()\n",
    "\n",
    "for metric_name in results.keys():\n",
    "    average_score = np.average(results[metric_name])\n",
    "    print('%s : %f' % (metric_name, average_score))\n",
    "\n",
    "print('Time', time.time() - start, '\\n\\n')"
   ]
  },
  {
   "cell_type": "code",
   "execution_count": null,
   "metadata": {
    "colab": {},
    "colab_type": "code",
    "id": "8QM5ui_q4KE4",
    "outputId": "60c6d0d1-011d-41a3-a75d-3bbd94569926"
   },
   "outputs": [
    {
     "name": "stdout",
     "output_type": "stream",
     "text": [
      "ROC AUC : 0.650055\n",
      "Accuracy : 0.817917\n",
      "F1 Score : 0.794994\n",
      "Precision : 0.800874\n",
      "Recall : 0.817917\n",
      "Time 21.19074058532715 \n",
      "\n",
      "\n"
     ]
    }
   ],
   "source": [
    "start = time.time()\n",
    "_ = cross_val_score(ada_model, X_full, y,scoring=scorer, cv=5)\n",
    "results = scorer.get_results()\n",
    "\n",
    "for metric_name in results.keys():\n",
    "    average_score = np.average(results[metric_name])\n",
    "    print('%s : %f' % (metric_name, average_score))\n",
    "\n",
    "print('Time', time.time() - start, '\\n\\n')"
   ]
  },
  {
   "cell_type": "markdown",
   "metadata": {
    "colab_type": "text",
    "id": "trol7wLr4KE6"
   },
   "source": [
    "### Scoring MLPClassifier and AdaBoost using the Dimensionally Reduced Dataset (with PCA)"
   ]
  },
  {
   "cell_type": "code",
   "execution_count": null,
   "metadata": {
    "colab": {},
    "colab_type": "code",
    "id": "l-ujw0vK19OM"
   },
   "outputs": [],
   "source": [
    "# Prepare x and y data\n",
    "mlDf = finalDf.drop(['ID'], axis=1)\n",
    "X_reduced = mlDf.drop(['DEFAULT'], axis=1)\n",
    "y = mlDf['DEFAULT']\n",
    "\n",
    "# Scale the dataset\n",
    "X_reduced = StandardScaler().fit_transform(X_reduced)"
   ]
  },
  {
   "cell_type": "code",
   "execution_count": null,
   "metadata": {
    "colab": {},
    "colab_type": "code",
    "id": "GEszl91j4KFB",
    "outputId": "70732007-7836-4d8f-a600-c3872146ebb4"
   },
   "outputs": [
    {
     "name": "stdout",
     "output_type": "stream",
     "text": [
      "ROC AUC : 0.647964\n",
      "Accuracy : 0.814212\n",
      "F1 Score : 0.792091\n",
      "Precision : 0.795946\n",
      "Recall : 0.814212\n",
      "Time 42.352895975112915 \n",
      "\n",
      "\n"
     ]
    }
   ],
   "source": [
    "start = time.time()\n",
    "_ = cross_val_score(mlp_model, X_reduced, y,scoring=scorer, cv=5)\n",
    "results = scorer.get_results()\n",
    "\n",
    "for metric_name in results.keys():\n",
    "    average_score = np.average(results[metric_name])\n",
    "    print('%s : %f' % (metric_name, average_score))\n",
    "\n",
    "print('Time', time.time() - start, '\\n\\n')"
   ]
  },
  {
   "cell_type": "code",
   "execution_count": null,
   "metadata": {
    "colab": {},
    "colab_type": "code",
    "id": "kZOj9o-h4KFE",
    "outputId": "d4ecfc12-7959-4a94-889f-4aa05f394f54"
   },
   "outputs": [
    {
     "name": "stdout",
     "output_type": "stream",
     "text": [
      "ROC AUC : 0.641071\n",
      "Accuracy : 0.811717\n",
      "F1 Score : 0.787932\n",
      "Precision : 0.792288\n",
      "Recall : 0.811717\n",
      "Time 14.34685754776001 \n",
      "\n",
      "\n"
     ]
    }
   ],
   "source": [
    "start = time.time()\n",
    "_ = cross_val_score(ada_model, X_reduced, y,scoring=scorer, cv=5)\n",
    "results = scorer.get_results()\n",
    "\n",
    "for metric_name in results.keys():\n",
    "    average_score = np.average(results[metric_name])\n",
    "    print('%s : %f' % (metric_name, average_score))\n",
    "\n",
    "print('Time', time.time() - start, '\\n\\n')"
   ]
  }
 ],
 "metadata": {
  "colab": {
   "collapsed_sections": [],
   "name": "Group5-NeuralNetwork and AdaBoost.ipynb",
   "provenance": [],
   "toc_visible": true
  },
  "kernelspec": {
   "display_name": "Python 3",
   "language": "python",
   "name": "python3"
  },
  "language_info": {
   "codemirror_mode": {
    "name": "ipython",
    "version": 3
   },
   "file_extension": ".py",
   "mimetype": "text/x-python",
   "name": "python",
   "nbconvert_exporter": "python",
   "pygments_lexer": "ipython3",
   "version": "3.7.6"
  }
 },
 "nbformat": 4,
 "nbformat_minor": 4
}
